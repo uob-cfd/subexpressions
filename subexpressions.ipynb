{
 "cells": [
  {
   "cell_type": "markdown",
   "metadata": {},
   "source": [
    "# Decoding expressions\n",
    "\n",
    "This is an OKpy exercise.  Run the cell below to prepare OKpy to give you\n",
    "feedback as you work through the exercise."
   ]
  },
  {
   "cell_type": "code",
   "execution_count": null,
   "metadata": {
    "lines_to_next_cell": 2
   },
   "outputs": [],
   "source": [
    "# Run this cell to set up the notebook, but please don't change it.\n",
    "# These lines load the tests.\n",
    "from client.api.notebook import Notebook\n",
    "ok = Notebook('subexpressions.ok')"
   ]
  },
  {
   "cell_type": "markdown",
   "metadata": {},
   "source": [
    "## Breaking down expressions"
   ]
  },
  {
   "cell_type": "markdown",
   "metadata": {},
   "source": [
    "A central idea in Computer Science is that complicated, useful things can be\n",
    "built by putting together simple parts according to simple rules. Python code\n",
    "is an important example of this principle. Once you understand the basic\n",
    "rules, you can code with confidence. These exercises are designed to give you\n",
    "some practice with those rules."
   ]
  },
  {
   "cell_type": "markdown",
   "metadata": {},
   "source": [
    "First make sure you have read and understood the [sub-expressions page](https://matthew-brett.github.io/cfd2020/code-basics/subexpressions) in the textbook.\n",
    "\n",
    "**Question 1.** Look at the expression below.\n",
    "\n",
    "`55 + 92`\n",
    "\n",
    "Which of the following are subexpressions of the expression above?\n",
    "\n",
    "1. `92`\n",
    "2. `55 + 92`\n",
    "\n",
    "Choose the *number* corresponding to the correct answer, and set the variable\n",
    "below to have that value.  For example, if you think 1 is the correct answer,\n",
    "you would set `q1 = 1` below."
   ]
  },
  {
   "cell_type": "code",
   "execution_count": null,
   "metadata": {},
   "outputs": [],
   "source": [
    "q1 = ..."
   ]
  },
  {
   "cell_type": "markdown",
   "metadata": {},
   "source": [
    "Check your answer here."
   ]
  },
  {
   "cell_type": "code",
   "execution_count": null,
   "metadata": {},
   "outputs": [],
   "source": [
    "_ = ok.grade('q_q1')"
   ]
  },
  {
   "cell_type": "markdown",
   "metadata": {},
   "source": [
    "**Question 2.**  Expressions with variables.\n",
    "\n",
    "Let us say that I have defined two variables, like this:"
   ]
  },
  {
   "cell_type": "code",
   "execution_count": null,
   "metadata": {},
   "outputs": [],
   "source": [
    "a = 10\n",
    "b = 5"
   ]
  },
  {
   "cell_type": "markdown",
   "metadata": {},
   "source": [
    "Now consider this expression.\n",
    "\n",
    "`(a + 3) / b`\n",
    "\n",
    "Which of the following is *not* true of the expression above?\n",
    "\n",
    "1. `a` is a sub-expression (of this expression).\n",
    "2. `3` is a sub-expression.\n",
    "3. `3 / b` is sub-expression.\n",
    "4. `a + 3` is a sub-expression.\n",
    "5. There are four sub-expressions in total.\n",
    "6. `b` is a sub-expression.\n",
    "\n",
    "In the next cell, set your answer - e.g. `q2 = 2`.  Remember."
   ]
  },
  {
   "cell_type": "code",
   "execution_count": null,
   "metadata": {},
   "outputs": [],
   "source": [
    "q2 = ..."
   ]
  },
  {
   "cell_type": "code",
   "execution_count": null,
   "metadata": {},
   "outputs": [],
   "source": [
    "_ = ok.grade('q_q2')"
   ]
  },
  {
   "cell_type": "markdown",
   "metadata": {},
   "source": [
    "**Question 3.**  Consider the sub-expressions of the following expression.\n",
    "\n",
    "`a + 5 * b`\n",
    "\n",
    "Here is a list of almost all the sub-expressions of that expression.  One is\n",
    "missing.\n",
    "\n",
    "* `a`\n",
    "* `5`\n",
    "* `b`\n",
    "\n",
    "Which of the following is the missing sub-expression?\n",
    "\n",
    "1. `a + 5`\n",
    "2. `5 * b`\n",
    "3. `a + 5 * b`"
   ]
  },
  {
   "cell_type": "code",
   "execution_count": null,
   "metadata": {},
   "outputs": [],
   "source": [
    "q3 = ..."
   ]
  },
  {
   "cell_type": "code",
   "execution_count": null,
   "metadata": {},
   "outputs": [],
   "source": [
    "_ = ok.grade('q_q3')"
   ]
  },
  {
   "cell_type": "markdown",
   "metadata": {},
   "source": [
    "**Question 4.** Consider the following expression:\n",
    "\n",
    "`(1 + 2) * ((3 / 4) ** 5)`\n",
    "\n",
    "Here is a list of some sub-expressions of that expression.\n",
    "\n",
    "* `1`\n",
    "* `2`\n",
    "* `3`\n",
    "* `4`\n",
    "* `5`\n",
    "* `(1 + 2)`\n",
    "* `((3 / 4) ** 5)`\n",
    "\n",
    "How many sub-expressions are missing from this list?\n",
    "\n",
    "1. One.\n",
    "2. Two.\n",
    "3. Three.\n",
    "4. None.\n",
    "\n",
    "Choose your answer by setting the variable below."
   ]
  },
  {
   "cell_type": "code",
   "execution_count": null,
   "metadata": {},
   "outputs": [],
   "source": [
    "q4 = ..."
   ]
  },
  {
   "cell_type": "code",
   "execution_count": null,
   "metadata": {},
   "outputs": [],
   "source": [
    "_ = ok.grade('q_q4')"
   ]
  },
  {
   "cell_type": "markdown",
   "metadata": {},
   "source": [
    "**Question 5.** List all the sub-expressions of the following expression:\n",
    "\n",
    "`(((2 ** 3) / 4) / 5) - 6`\n",
    "\n",
    "Put each sub-expression on its own line in the next cell.\n",
    "\n",
    "*Hint* - there are eight of them."
   ]
  },
  {
   "cell_type": "code",
   "execution_count": null,
   "metadata": {},
   "outputs": [],
   "source": [
    "#- Fill in your sub-expressions here.  Put one sub-expression per line.\n",
    "#- If the thing you have entered is a valid sub-expression, it will\n",
    "#- evaluate without causing an error. So, you should have 8 lines below.\n",
    "#- and, when you run the cell, there should be no error.\n",
    "...\n",
    "...\n",
    "...\n",
    "...\n",
    "...\n",
    "...\n",
    "...\n",
    "..."
   ]
  },
  {
   "cell_type": "markdown",
   "metadata": {},
   "source": [
    "We will go through the right answers to this and the other written questions\n",
    "in the class sessions.\n",
    "\n",
    "**Question 7.**.  Where are the variables now?\n",
    "\n",
    "Consider the following cell.  Execute it, to show the value of y."
   ]
  },
  {
   "cell_type": "code",
   "execution_count": null,
   "metadata": {},
   "outputs": [],
   "source": [
    "x = 10\n",
    "y = x * 3\n",
    "x = 100\n",
    "y"
   ]
  },
  {
   "cell_type": "markdown",
   "metadata": {},
   "source": [
    "Why is `y` equal to 30, and not 300?  Explain in the text cell below.\n",
    "(Remember, double-click the cell to edit it, and then press shift-enter when\n",
    "you're done.)"
   ]
  },
  {
   "cell_type": "markdown",
   "metadata": {},
   "source": [
    "*Write your answer here, replacing this text.*"
   ]
  },
  {
   "cell_type": "markdown",
   "metadata": {},
   "source": [
    "## Errors in Naming"
   ]
  },
  {
   "cell_type": "markdown",
   "metadata": {},
   "source": [
    "**Question 1.** When you run the following cell, Python will produce a\n",
    "slightly cryptic error message.  Explain in the text cell below, in your own\n",
    "words, what's wrong with the code."
   ]
  },
  {
   "cell_type": "code",
   "execution_count": null,
   "metadata": {
    "tags": [
     "raises-exception"
    ]
   },
   "outputs": [],
   "source": [
    "8 = 4 + 4"
   ]
  },
  {
   "cell_type": "markdown",
   "metadata": {},
   "source": [
    "*Write your answer here, replacing this text.*"
   ]
  },
  {
   "cell_type": "markdown",
   "metadata": {},
   "source": [
    "**Question 2**. When you run the following cell, Python will produce another\n",
    "slightly cryptic error message. Fix the error, and then explain below in your\n",
    "own words what was wrong with the code."
   ]
  },
  {
   "cell_type": "code",
   "execution_count": null,
   "metadata": {
    "tags": [
     "raises-exception"
    ]
   },
   "outputs": [],
   "source": [
    "two = 2\n",
    "four = two plus two"
   ]
  },
  {
   "cell_type": "code",
   "execution_count": null,
   "metadata": {},
   "outputs": [],
   "source": [
    "_ = ok.grade('q3_2')"
   ]
  },
  {
   "cell_type": "markdown",
   "metadata": {},
   "source": [
    "*Write your answer here, replacing this text.*"
   ]
  },
  {
   "cell_type": "code",
   "execution_count": null,
   "metadata": {},
   "outputs": [],
   "source": [
    "# For your convenience, you can run this cell to run all the tests at once!\n",
    "import os\n",
    "_ = [ok.grade(q[:-3]) for q in os.listdir(\"tests\") if q.startswith('q')]"
   ]
  },
  {
   "cell_type": "markdown",
   "metadata": {},
   "source": [
    "## Notes\n",
    "\n",
    "Partly from [the Berkeley course\n",
    "materials](https://github.com/data-8/data8assets) with thanks."
   ]
  }
 ],
 "metadata": {
  "jupytext": {
   "text_representation": {
    "extension": ".Rmd",
    "format_name": "rmarkdown",
    "format_version": "1.1",
    "jupytext_version": "1.2.4"
   }
  },
  "kernelspec": {
   "display_name": "Python 3",
   "language": "python",
   "name": "python3"
  }
 },
 "nbformat": 4,
 "nbformat_minor": 4
}
